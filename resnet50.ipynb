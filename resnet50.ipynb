{
 "cells": [
  {
   "cell_type": "code",
   "execution_count": 2,
   "metadata": {},
   "outputs": [
    {
     "name": "stdout",
     "output_type": "stream",
     "text": [
      "Num GPUs Available:  1\n"
     ]
    }
   ],
   "source": [
    "import os\n",
    "# os.environ[\"CUDA_VISIBLE_DEVICES\"] = \"-1\"\n",
    "import numpy as np\n",
    "import tensorflow as tf\n",
    "config = tf.ConfigProto()\n",
    "config.gpu_options.allow_growth = True\n",
    "tf.keras.backend.set_session(tf.Session(config=config))\n",
    "print(\"Num GPUs Available: \", len(tf.config.experimental.list_physical_devices('GPU')))"
   ]
  },
  {
   "cell_type": "code",
   "execution_count": 3,
   "metadata": {},
   "outputs": [],
   "source": [
    "cifar = tf.keras.datasets.cifar100\n",
    "\n",
    "(x_train, y_train), (x_test, y_test) = cifar.load_data()"
   ]
  },
  {
   "cell_type": "code",
   "execution_count": 4,
   "metadata": {},
   "outputs": [
    {
     "name": "stdout",
     "output_type": "stream",
     "text": [
      "(50000, 32, 32, 3)\n",
      "[31]\n"
     ]
    },
    {
     "data": {
      "text/plain": [
       "<matplotlib.image.AxesImage at 0x7f2d380387f0>"
      ]
     },
     "execution_count": 4,
     "metadata": {},
     "output_type": "execute_result"
    },
    {
     "data": {
      "image/png": "[encoded data removed]",
      "text/plain": [
       "<Figure size 432x288 with 1 Axes>"
      ]
     },
     "metadata": {
      "needs_background": "light"
     },
     "output_type": "display_data"
    }
   ],
   "source": [
    "x_train, x_test = x_train / 255.0, x_test / 255.0\n",
    "print (x_train.shape)\n",
    "\n",
    "import matplotlib.pyplot as plt\n",
    "%matplotlib inline\n",
    "print(y_train[9])\n",
    "plt.imshow(x_train[9])\n"
   ]
  },
  {
   "cell_type": "code",
   "execution_count": 10,
   "metadata": {},
   "outputs": [],
   "source": [
    "import tensorflow as tf\n",
    "from keras.applications import ResNet50 as ResNet50\n",
    "from keras.optimizers import Adam as Adam\n",
    "\n",
    "model = ResNet50(\n",
    "    input_shape=x_train[0].shape,\n",
    "    include_top=True,\n",
    "    weights=None,\n",
    "    classes=len(np.unique(y_train))\n",
    ")\n"
   ]
  },
  {
   "cell_type": "code",
   "execution_count": 11,
   "metadata": {},
   "outputs": [],
   "source": [
    "loss_fn = tf.keras.losses.SparseCategoricalCrossentropy(from_logits=True)"
   ]
  },
  {
   "cell_type": "code",
   "execution_count": 12,
   "metadata": {},
   "outputs": [],
   "source": [
    "model.compile(optimizer='adam',\n",
    "              loss=loss_fn,\n",
    "              metrics=['accuracy'])"
   ]
  },
  {
   "cell_type": "code",
   "execution_count": null,
   "metadata": {},
   "outputs": [
    {
     "name": "stdout",
     "output_type": "stream",
     "text": [
      "WARNING:tensorflow:From /opt/conda/lib/python3.7/site-packages/keras/backend/tensorflow_backend.py:422: The name tf.global_variables is deprecated. Please use tf.compat.v1.global_variables instead.\n",
      "\n",
      "Epoch 1/10\n",
      "50000/50000 [==============================] - 82s 2ms/step - loss: 4.6104 - accuracy: 0.0000e+00\n",
      "Epoch 2/10\n",
      "50000/50000 [==============================] - 75s 2ms/step - loss: 4.6112 - accuracy: 0.0000e+00\n",
      "Epoch 3/10\n",
      "50000/50000 [==============================] - 76s 2ms/step - loss: 4.6122 - accuracy: 0.0000e+00\n",
      "Epoch 4/10\n",
      "50000/50000 [==============================] - 77s 2ms/step - loss: 4.6122 - accuracy: 0.0000e+00\n",
      "Epoch 5/10\n",
      "50000/50000 [==============================] - 77s 2ms/step - loss: 4.6122 - accuracy: 0.0000e+00\n",
      "Epoch 6/10\n",
      "50000/50000 [==============================] - 77s 2ms/step - loss: 4.6122 - accuracy: 0.0000e+00\n",
      "Epoch 7/10\n",
      "50000/50000 [==============================] - 77s 2ms/step - loss: 4.6122 - accuracy: 0.0000e+00\n",
      "Epoch 8/10\n",
      "50000/50000 [==============================] - 77s 2ms/step - loss: 4.6122 - accuracy: 0.0000e+00\n",
      "Epoch 9/10\n",
      "34848/50000 [===================>..........] - ETA: 23s - loss: 4.6127 - accuracy: 0.0000e+00"
     ]
    }
   ],
   "source": [
    "model.fit(x_train, y_train, epochs=10)\n"
   ]
  },
  {
   "cell_type": "code",
   "execution_count": 16,
   "metadata": {},
   "outputs": [],
   "source": [
    "model.save_weights(\"resnet50.model\")\n",
    "\n"
   ]
  },
  {
   "cell_type": "code",
   "execution_count": 22,
   "metadata": {},
   "outputs": [
    {
     "name": "stdout",
     "output_type": "stream",
     "text": [
      "10/10 [==============================] - 0s 1ms/step\n",
      "test loss, test acc: [4.622207164764404, 0.0]\n",
      "[31 31 31]\n",
      "[[49]\n",
      " [33]\n",
      " [72]]\n"
     ]
    }
   ],
   "source": [
    "# print(dir(model))\n",
    "x,y= x_test[:10],y_test[:10]\n",
    "\n",
    "results = model.evaluate(x, y, batch_size=128)\n",
    "print(\"test loss, test acc:\", results)\n",
    "\n",
    "predictions = model.predict(x_test[:3])\n",
    "# print (predictions)\n",
    "print(np.argmax(predictions,axis=1))\n",
    "# print(predictions)\n",
    "print (y_test[:3])\n",
    "\n",
    "# print(\"predictions shape:\", predictions.shape)\n",
    "\n",
    "# print(y) \n",
    "# y = model.predict(x_test[:10])-y_test[:10]\n",
    "\n",
    "# print(y_test[:10].shape)\n",
    "# print(y[:10].shape)\n",
    "# print(y_test[9])\n",
    "# plt.imshow(x_test[9])\n",
    "# print(y[9])\n",
    "# model.evaluate(x_test,  y_test, verbose=2)\n"
   ]
  },
  {
   "cell_type": "code",
   "execution_count": null,
   "metadata": {},
   "outputs": [
    {
     "name": "stdout",
     "output_type": "stream",
     "text": [
      "WARNING:tensorflow:From /opt/conda/lib/python3.7/site-packages/keras/backend/tensorflow_backend.py:422: The name tf.global_variables is deprecated. Please use tf.compat.v1.global_variables instead.\n",
      "\n",
      "Train on 50000 samples, validate on 10000 samples\n",
      "Epoch 1/100\n",
      "50000/50000 [==============================] - 89s 2ms/step - loss: 2.1744 - accuracy: 0.4195 - val_loss: 2.7209 - val_accuracy: 0.3519\n",
      "Epoch 2/100\n",
      "50000/50000 [==============================] - 82s 2ms/step - loss: 2.0298 - accuracy: 0.4507 - val_loss: 2.8925 - val_accuracy: 0.3474\n",
      "Epoch 3/100\n",
      "50000/50000 [==============================] - 82s 2ms/step - loss: 1.9588 - accuracy: 0.4681 - val_loss: 2.5744 - val_accuracy: 0.3620\n",
      "Epoch 4/100\n",
      "50000/50000 [==============================] - 82s 2ms/step - loss: 1.7940 - accuracy: 0.5011 - val_loss: 2.5521 - val_accuracy: 0.3829\n",
      "Epoch 5/100\n",
      "50000/50000 [==============================] - 82s 2ms/step - loss: 1.5921 - accuracy: 0.5476 - val_loss: 3.4074 - val_accuracy: 0.3503\n",
      "Epoch 6/100\n",
      "50000/50000 [==============================] - 82s 2ms/step - loss: 1.5725 - accuracy: 0.5522 - val_loss: 6.7303 - val_accuracy: 0.2320\n",
      "Epoch 7/100\n",
      "50000/50000 [==============================] - 82s 2ms/step - loss: 1.4789 - accuracy: 0.5756 - val_loss: 2.8645 - val_accuracy: 0.3907\n",
      "Epoch 8/100\n",
      "50000/50000 [==============================] - 82s 2ms/step - loss: 1.4365 - accuracy: 0.5850 - val_loss: 2.9174 - val_accuracy: 0.3919\n",
      "Epoch 9/100\n",
      "50000/50000 [==============================] - 82s 2ms/step - loss: 1.1711 - accuracy: 0.6517 - val_loss: 2.7703 - val_accuracy: 0.4036\n",
      "Epoch 11/100\n",
      "50000/50000 [==============================] - 83s 2ms/step - loss: 0.4159 - accuracy: 0.8688 - val_loss: 17.8938 - val_accuracy: 0.3112\n",
      "Epoch 25/100\n",
      "50000/50000 [==============================] - 83s 2ms/step - loss: 0.4026 - accuracy: 0.8715 - val_loss: 7.5588 - val_accuracy: 0.4019\n",
      "Epoch 26/100\n",
      "50000/50000 [==============================] - 82s 2ms/step - loss: 0.2146 - accuracy: 0.9310 - val_loss: 7.6838 - val_accuracy: 0.4085\n",
      "Epoch 36/100\n",
      "50000/50000 [==============================] - 83s 2ms/step - loss: 0.4450 - accuracy: 0.8667 - val_loss: 11.8682 - val_accuracy: 0.3719\n",
      "Epoch 37/100\n",
      "50000/50000 [==============================] - 83s 2ms/step - loss: 0.2239 - accuracy: 0.9296 - val_loss: 12.5619 - val_accuracy: 0.3982\n",
      "Epoch 38/100\n",
      "32512/50000 [==================>...........] - ETA: 26s - loss: 0.1944 - accuracy: 0.9377"
     ]
    }
   ],
   "source": [
    "from keras.applications.resnet50 import ResNet50\n",
    "from keras.datasets import cifar100\n",
    "import tensorflow as tf\n",
    "import datetime\n",
    "config = tf.ConfigProto()\n",
    "config.gpu_options.allow_growth = True\n",
    "tf.keras.backend.set_session(tf.Session(config=config))\n",
    "\n",
    "(x_train, y_train), (x_test, y_test) = cifar100.load_data(label_mode='fine')\n",
    "x_train, x_test = x_train / 255, x_test / 255 # normalize data\n",
    "\n",
    "\n",
    "x_train = x_train\n",
    "y_train = y_train\n",
    "\n",
    "x_test = x_test\n",
    "y_test = y_test\n",
    "\n",
    "model = ResNet50(input_shape=x_train.shape[1:], weights=None)\n",
    "model.compile(\n",
    "    optimizer = 'adam',\n",
    "    loss = 'sparse_categorical_crossentropy',\n",
    "    metrics = ['accuracy'])\n",
    "model.load_weights(\"resnet50.model\")\n",
    "tensorboard_callback = tf.keras.callbacks.TensorBoard(log_dir=\"log\")\n",
    "\n",
    "log_dir = \"log\"\n",
    "\n",
    "model.fit(\n",
    "    x = x_train,\n",
    "    y = y_train,\n",
    "    epochs = 100,\n",
    "    validation_data = (x_test, y_test),\n",
    "    callbacks = [tensorboard_callback]\n",
    ")\n",
    "model.save_weights(\"resnet50.model\")\n"
   ]
  },
  {
   "cell_type": "code",
   "execution_count": 3,
   "metadata": {},
   "outputs": [
    {
     "data": {
      "text/plain": [
       "<keras.engine.training.Model at 0x7f6f8700a2e8>"
      ]
     },
     "execution_count": 3,
     "metadata": {},
     "output_type": "execute_result"
    }
   ],
   "source": [
    "\n"
   ]
  },
  {
   "cell_type": "code",
   "execution_count": 15,
   "metadata": {},
   "outputs": [
    {
     "name": "stdout",
     "output_type": "stream",
     "text": [
      "[12 33 15 21 71  6 15  3 23 83]\n",
      "[49 33 72 51 71 92 15 14 23  0]\n"
     ]
    }
   ],
   "source": [
    "import numpy as np\n",
    "r = model.predict(x_test[:10])\n",
    "# model\n",
    "print(np.argmax(r,axis=1))\n",
    "print(y_test[:10].T[0])"
   ]
  },
  {
   "cell_type": "code",
   "execution_count": null,
   "metadata": {},
   "outputs": [],
   "source": []
  }
 ],
 "metadata": {
  "kernelspec": {
   "display_name": "Python 3",
   "language": "python",
   "name": "python3"
  },
  "language_info": {
   "codemirror_mode": {
    "name": "ipython",
    "version": 3
   },
   "file_extension": ".py",
   "mimetype": "text/x-python",
   "name": "python",
   "nbconvert_exporter": "python",
   "pygments_lexer": "ipython3",
   "version": "3.7.3"
  }
 },
 "nbformat": 4,
 "nbformat_minor": 2
}
